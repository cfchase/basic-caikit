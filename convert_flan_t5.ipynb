{
 "cells": [
  {
   "cell_type": "code",
   "execution_count": null,
   "id": "447c568b-b227-4437-8e0e-17746f393554",
   "metadata": {},
   "outputs": [],
   "source": [
    "!wget https://github.com/git-lfs/git-lfs/releases/download/v3.4.0/git-lfs-linux-amd64-v3.4.0.tar.gz\n",
    "!tar -xvzf git-lfs-linux-amd64-v3.4.0.tar.gz\n",
    "!PREFIX=/opt/app-root/src/.local ./git-lfs-3.4.0/install.sh "
   ]
  },
  {
   "cell_type": "code",
   "execution_count": 1,
   "id": "8aa3a67b-ebf7-4737-9f41-0730ee009009",
   "metadata": {
    "tags": []
   },
   "outputs": [
    {
     "name": "stdout",
     "output_type": "stream",
     "text": [
      "Cloning into 'caikit-nlp'...\n",
      "remote: Enumerating objects: 5197, done.\u001b[K\n",
      "remote: Counting objects: 100% (2355/2355), done.\u001b[K\n",
      "remote: Compressing objects: 100% (616/616), done.\u001b[K\n",
      "remote: Total 5197 (delta 1953), reused 1761 (delta 1736), pack-reused 2842\u001b[K\n",
      "Receiving objects: 100% (5197/5197), 2.37 MiB | 42.49 MiB/s, done.\n",
      "Resolving deltas: 100% (3819/3819), done.\n"
     ]
    }
   ],
   "source": [
    "!git clone https://github.com/caikit/caikit-nlp.git"
   ]
  },
  {
   "cell_type": "code",
   "execution_count": 9,
   "id": "752d93c2-dca2-4d23-9143-ad789a8b61ad",
   "metadata": {},
   "outputs": [
    {
     "name": "stdout",
     "output_type": "stream",
     "text": [
      "Processing ./caikit-nlp\n",
      "  Installing build dependencies ... \u001b[?25ldone\n",
      "\u001b[?25h\u001b[33m  WARNING: Missing build requirements in pyproject.toml for file:///opt/app-root/src/rhods-llama2/notebooks/caikit-nlp.\u001b[0m\u001b[33m\n",
      "\u001b[0m\u001b[33m  WARNING: The project does not specify a build backend, and pip cannot fall back to setuptools without 'wheel'.\u001b[0m\u001b[33m\n",
      "\u001b[0m  Getting requirements to build wheel ... \u001b[?25ldone\n",
      "\u001b[?25h  Installing backend dependencies ... \u001b[?25ldone\n",
      "\u001b[?25h  Preparing metadata (pyproject.toml) ... \u001b[?25ldone\n",
      "\u001b[?25hRequirement already satisfied: datasets>=2.4.0 in /opt/app-root/lib/python3.9/site-packages (from caikit-nlp==0.4.1) (2.15.0)\n",
      "Requirement already satisfied: caikit[runtime-grpc,runtime-http]<0.26.0,>=0.25.0 in /opt/app-root/lib/python3.9/site-packages (from caikit-nlp==0.4.1) (0.25.7)\n",
      "Requirement already satisfied: tokenizers>=0.13.3 in /opt/app-root/lib/python3.9/site-packages (from caikit-nlp==0.4.1) (0.15.0)\n",
      "Requirement already satisfied: accelerate>=0.22.0 in /opt/app-root/lib/python3.9/site-packages (from caikit-nlp==0.4.1) (0.25.0)\n",
      "Requirement already satisfied: caikit-tgis-backend<0.2.0,>=0.1.27 in /opt/app-root/lib/python3.9/site-packages (from caikit-nlp==0.4.1) (0.1.29)\n",
      "Requirement already satisfied: numpy>=1.22.4 in /opt/app-root/lib/python3.9/site-packages (from caikit-nlp==0.4.1) (1.24.4)\n",
      "Requirement already satisfied: transformers>=4.32.0 in /opt/app-root/lib/python3.9/site-packages (from caikit-nlp==0.4.1) (4.36.1)\n",
      "Requirement already satisfied: pandas>=1.5.0 in /opt/app-root/lib/python3.9/site-packages (from caikit-nlp==0.4.1) (1.5.3)\n",
      "Requirement already satisfied: torch>=2.0.1 in /opt/app-root/lib/python3.9/site-packages (from caikit-nlp==0.4.1) (2.0.1+cu118)\n",
      "Requirement already satisfied: tqdm>=4.65.0 in /opt/app-root/lib/python3.9/site-packages (from caikit-nlp==0.4.1) (4.66.1)\n",
      "Requirement already satisfied: scikit-learn>=1.1 in /opt/app-root/lib/python3.9/site-packages (from caikit-nlp==0.4.1) (1.3.2)\n",
      "Requirement already satisfied: peft==0.6.0 in /opt/app-root/lib/python3.9/site-packages (from caikit-nlp==0.4.1) (0.6.0)\n",
      "Requirement already satisfied: scipy>=1.8.1 in /opt/app-root/lib/python3.9/site-packages (from caikit-nlp==0.4.1) (1.11.3)\n",
      "Requirement already satisfied: huggingface-hub in /opt/app-root/lib/python3.9/site-packages (from caikit-nlp==0.4.1) (0.19.4)\n",
      "Requirement already satisfied: psutil in /opt/app-root/lib/python3.9/site-packages (from peft==0.6.0->caikit-nlp==0.4.1) (5.9.6)\n",
      "Requirement already satisfied: safetensors in /opt/app-root/lib/python3.9/site-packages (from peft==0.6.0->caikit-nlp==0.4.1) (0.4.1)\n",
      "Requirement already satisfied: packaging>=20.0 in /opt/app-root/lib/python3.9/site-packages (from peft==0.6.0->caikit-nlp==0.4.1) (23.2)\n",
      "Requirement already satisfied: pyyaml in /opt/app-root/lib/python3.9/site-packages (from peft==0.6.0->caikit-nlp==0.4.1) (6.0.1)\n",
      "Requirement already satisfied: requests<3,>=2.28.2 in /opt/app-root/lib/python3.9/site-packages (from caikit-tgis-backend<0.2.0,>=0.1.27->caikit-nlp==0.4.1) (2.31.0)\n",
      "Requirement already satisfied: grpcio<2.0,>=1.35.0 in /opt/app-root/lib/python3.9/site-packages (from caikit-tgis-backend<0.2.0,>=0.1.27->caikit-nlp==0.4.1) (1.60.0)\n",
      "Requirement already satisfied: py-to-proto!=0.2.1,<0.6.0,>=0.5.0 in /opt/app-root/lib/python3.9/site-packages (from caikit[runtime-grpc,runtime-http]<0.26.0,>=0.25.0->caikit-nlp==0.4.1) (0.5.2)\n",
      "Requirement already satisfied: ijson<3.3.0,>=3.1.4 in /opt/app-root/lib/python3.9/site-packages (from caikit[runtime-grpc,runtime-http]<0.26.0,>=0.25.0->caikit-nlp==0.4.1) (3.2.3)\n",
      "Requirement already satisfied: six<2.0.0,>=1.16.0 in /opt/app-root/lib/python3.9/site-packages (from caikit[runtime-grpc,runtime-http]<0.26.0,>=0.25.0->caikit-nlp==0.4.1) (1.16.0)\n",
      "Requirement already satisfied: docstring-parser<0.16.0,>=0.14.1 in /opt/app-root/lib/python3.9/site-packages (from caikit[runtime-grpc,runtime-http]<0.26.0,>=0.25.0->caikit-nlp==0.4.1) (0.15)\n",
      "Requirement already satisfied: werkzeug<4.0.0,>=2.3.7 in /opt/app-root/lib/python3.9/site-packages (from caikit[runtime-grpc,runtime-http]<0.26.0,>=0.25.0->caikit-nlp==0.4.1) (3.0.1)\n",
      "Requirement already satisfied: importlib-metadata<8.0.0,>=6.8.0 in /opt/app-root/lib/python3.9/site-packages (from caikit[runtime-grpc,runtime-http]<0.26.0,>=0.25.0->caikit-nlp==0.4.1) (6.8.0)\n",
      "Requirement already satisfied: semver<4.0,>=2.13.0 in /opt/app-root/lib/python3.9/site-packages (from caikit[runtime-grpc,runtime-http]<0.26.0,>=0.25.0->caikit-nlp==0.4.1) (3.0.2)\n",
      "Requirement already satisfied: munch<5.0,>=2.5.0 in /opt/app-root/lib/python3.9/site-packages (from caikit[runtime-grpc,runtime-http]<0.26.0,>=0.25.0->caikit-nlp==0.4.1) (4.0.0)\n",
      "Requirement already satisfied: alchemy-logging<2.0.0,>=1.0.4 in /opt/app-root/lib/python3.9/site-packages (from caikit[runtime-grpc,runtime-http]<0.26.0,>=0.25.0->caikit-nlp==0.4.1) (1.3.0)\n",
      "Requirement already satisfied: protobuf<5,>=3.19.0 in /opt/app-root/lib/python3.9/site-packages (from caikit[runtime-grpc,runtime-http]<0.26.0,>=0.25.0->caikit-nlp==0.4.1) (4.25.1)\n",
      "Requirement already satisfied: anytree<3.0,>=2.7.0 in /opt/app-root/lib/python3.9/site-packages (from caikit[runtime-grpc,runtime-http]<0.26.0,>=0.25.0->caikit-nlp==0.4.1) (2.12.1)\n",
      "Requirement already satisfied: alchemy-config<2.0.0,>=1.1.1 in /opt/app-root/lib/python3.9/site-packages (from caikit[runtime-grpc,runtime-http]<0.26.0,>=0.25.0->caikit-nlp==0.4.1) (1.1.2)\n",
      "Requirement already satisfied: fastapi[all]<1,>=0.100 in /opt/app-root/lib/python3.9/site-packages (from caikit[runtime-grpc,runtime-http]<0.26.0,>=0.25.0->caikit-nlp==0.4.1) (0.105.0)\n",
      "Requirement already satisfied: sse-starlette<2,>=1.6.1 in /opt/app-root/lib/python3.9/site-packages (from caikit[runtime-grpc,runtime-http]<0.26.0,>=0.25.0->caikit-nlp==0.4.1) (1.8.2)\n",
      "Requirement already satisfied: py-grpc-prometheus<0.8,>=0.7.0 in /opt/app-root/lib/python3.9/site-packages (from caikit[runtime-grpc,runtime-http]<0.26.0,>=0.25.0->caikit-nlp==0.4.1) (0.7.0)\n",
      "Requirement already satisfied: grpcio-health-checking<2.0,>=1.35.0 in /opt/app-root/lib/python3.9/site-packages (from caikit[runtime-grpc,runtime-http]<0.26.0,>=0.25.0->caikit-nlp==0.4.1) (1.60.0)\n",
      "Requirement already satisfied: grpcio-reflection<2.0,>=1.35.0 in /opt/app-root/lib/python3.9/site-packages (from caikit[runtime-grpc,runtime-http]<0.26.0,>=0.25.0->caikit-nlp==0.4.1) (1.60.0)\n",
      "Requirement already satisfied: prometheus-client<1.0,>=0.12.0 in /opt/app-root/lib/python3.9/site-packages (from caikit[runtime-grpc,runtime-http]<0.26.0,>=0.25.0->caikit-nlp==0.4.1) (0.18.0)\n",
      "Requirement already satisfied: pyarrow>=8.0.0 in /opt/app-root/lib/python3.9/site-packages (from datasets>=2.4.0->caikit-nlp==0.4.1) (14.0.1)\n",
      "Requirement already satisfied: pyarrow-hotfix in /opt/app-root/lib/python3.9/site-packages (from datasets>=2.4.0->caikit-nlp==0.4.1) (0.6)\n",
      "Requirement already satisfied: xxhash in /opt/app-root/lib/python3.9/site-packages (from datasets>=2.4.0->caikit-nlp==0.4.1) (3.4.1)\n",
      "Requirement already satisfied: dill<0.3.8,>=0.3.0 in /opt/app-root/lib/python3.9/site-packages (from datasets>=2.4.0->caikit-nlp==0.4.1) (0.3.7)\n",
      "Requirement already satisfied: multiprocess in /opt/app-root/lib/python3.9/site-packages (from datasets>=2.4.0->caikit-nlp==0.4.1) (0.70.15)\n",
      "Requirement already satisfied: aiohttp in /opt/app-root/lib/python3.9/site-packages (from datasets>=2.4.0->caikit-nlp==0.4.1) (3.8.6)\n",
      "Requirement already satisfied: fsspec[http]<=2023.10.0,>=2023.1.0 in /opt/app-root/lib/python3.9/site-packages (from datasets>=2.4.0->caikit-nlp==0.4.1) (2023.10.0)\n",
      "Requirement already satisfied: typing-extensions>=3.7.4.3 in /opt/app-root/lib/python3.9/site-packages (from huggingface-hub->caikit-nlp==0.4.1) (4.8.0)\n",
      "Requirement already satisfied: filelock in /opt/app-root/lib/python3.9/site-packages (from huggingface-hub->caikit-nlp==0.4.1) (3.13.1)\n",
      "Requirement already satisfied: python-dateutil>=2.8.1 in /opt/app-root/lib/python3.9/site-packages (from pandas>=1.5.0->caikit-nlp==0.4.1) (2.8.2)\n",
      "Requirement already satisfied: pytz>=2020.1 in /opt/app-root/lib/python3.9/site-packages (from pandas>=1.5.0->caikit-nlp==0.4.1) (2023.3.post1)\n",
      "Requirement already satisfied: threadpoolctl>=2.0.0 in /opt/app-root/lib/python3.9/site-packages (from scikit-learn>=1.1->caikit-nlp==0.4.1) (3.2.0)\n",
      "Requirement already satisfied: joblib>=1.1.1 in /opt/app-root/lib/python3.9/site-packages (from scikit-learn>=1.1->caikit-nlp==0.4.1) (1.3.2)\n",
      "Requirement already satisfied: sympy in /opt/app-root/lib/python3.9/site-packages (from torch>=2.0.1->caikit-nlp==0.4.1) (1.12)\n",
      "Requirement already satisfied: networkx in /opt/app-root/lib/python3.9/site-packages (from torch>=2.0.1->caikit-nlp==0.4.1) (3.2.1)\n",
      "Requirement already satisfied: triton==2.0.0 in /opt/app-root/lib/python3.9/site-packages (from torch>=2.0.1->caikit-nlp==0.4.1) (2.0.0)\n",
      "Requirement already satisfied: jinja2 in /opt/app-root/lib/python3.9/site-packages (from torch>=2.0.1->caikit-nlp==0.4.1) (3.1.2)\n",
      "Requirement already satisfied: lit in /opt/app-root/lib/python3.9/site-packages (from triton==2.0.0->torch>=2.0.1->caikit-nlp==0.4.1) (17.0.4)\n",
      "Requirement already satisfied: cmake in /opt/app-root/lib/python3.9/site-packages (from triton==2.0.0->torch>=2.0.1->caikit-nlp==0.4.1) (3.27.7)\n",
      "Requirement already satisfied: regex!=2019.12.17 in /opt/app-root/lib/python3.9/site-packages (from transformers>=4.32.0->caikit-nlp==0.4.1) (2023.10.3)\n",
      "Requirement already satisfied: anyio<4.0.0,>=3.7.1 in /opt/app-root/lib/python3.9/site-packages (from fastapi[all]<1,>=0.100->caikit[runtime-grpc,runtime-http]<0.26.0,>=0.25.0->caikit-nlp==0.4.1) (3.7.1)\n",
      "Requirement already satisfied: pydantic!=1.8,!=1.8.1,!=2.0.0,!=2.0.1,!=2.1.0,<3.0.0,>=1.7.4 in /opt/app-root/lib/python3.9/site-packages (from fastapi[all]<1,>=0.100->caikit[runtime-grpc,runtime-http]<0.26.0,>=0.25.0->caikit-nlp==0.4.1) (2.5.2)\n",
      "Requirement already satisfied: starlette<0.28.0,>=0.27.0 in /opt/app-root/lib/python3.9/site-packages (from fastapi[all]<1,>=0.100->caikit[runtime-grpc,runtime-http]<0.26.0,>=0.25.0->caikit-nlp==0.4.1) (0.27.0)\n",
      "Requirement already satisfied: orjson>=3.2.1 in /opt/app-root/lib/python3.9/site-packages (from fastapi[all]<1,>=0.100->caikit[runtime-grpc,runtime-http]<0.26.0,>=0.25.0->caikit-nlp==0.4.1) (3.9.10)\n",
      "Requirement already satisfied: pydantic-extra-types>=2.0.0 in /opt/app-root/lib/python3.9/site-packages (from fastapi[all]<1,>=0.100->caikit[runtime-grpc,runtime-http]<0.26.0,>=0.25.0->caikit-nlp==0.4.1) (2.2.0)\n",
      "Requirement already satisfied: uvicorn[standard]>=0.12.0 in /opt/app-root/lib/python3.9/site-packages (from fastapi[all]<1,>=0.100->caikit[runtime-grpc,runtime-http]<0.26.0,>=0.25.0->caikit-nlp==0.4.1) (0.24.0.post1)\n",
      "Requirement already satisfied: ujson!=4.0.2,!=4.1.0,!=4.2.0,!=4.3.0,!=5.0.0,!=5.1.0,>=4.0.1 in /opt/app-root/lib/python3.9/site-packages (from fastapi[all]<1,>=0.100->caikit[runtime-grpc,runtime-http]<0.26.0,>=0.25.0->caikit-nlp==0.4.1) (5.8.0)\n",
      "Requirement already satisfied: itsdangerous>=1.1.0 in /opt/app-root/lib/python3.9/site-packages (from fastapi[all]<1,>=0.100->caikit[runtime-grpc,runtime-http]<0.26.0,>=0.25.0->caikit-nlp==0.4.1) (2.1.2)\n",
      "Requirement already satisfied: email-validator>=2.0.0 in /opt/app-root/lib/python3.9/site-packages (from fastapi[all]<1,>=0.100->caikit[runtime-grpc,runtime-http]<0.26.0,>=0.25.0->caikit-nlp==0.4.1) (2.1.0.post1)\n",
      "Requirement already satisfied: pydantic-settings>=2.0.0 in /opt/app-root/lib/python3.9/site-packages (from fastapi[all]<1,>=0.100->caikit[runtime-grpc,runtime-http]<0.26.0,>=0.25.0->caikit-nlp==0.4.1) (2.1.0)\n",
      "Requirement already satisfied: python-multipart>=0.0.5 in /opt/app-root/lib/python3.9/site-packages (from fastapi[all]<1,>=0.100->caikit[runtime-grpc,runtime-http]<0.26.0,>=0.25.0->caikit-nlp==0.4.1) (0.0.6)\n",
      "Requirement already satisfied: httpx>=0.23.0 in /opt/app-root/lib/python3.9/site-packages (from fastapi[all]<1,>=0.100->caikit[runtime-grpc,runtime-http]<0.26.0,>=0.25.0->caikit-nlp==0.4.1) (0.25.2)\n",
      "Requirement already satisfied: yarl<2.0,>=1.0 in /opt/app-root/lib/python3.9/site-packages (from aiohttp->datasets>=2.4.0->caikit-nlp==0.4.1) (1.9.2)\n",
      "Requirement already satisfied: attrs>=17.3.0 in /opt/app-root/lib/python3.9/site-packages (from aiohttp->datasets>=2.4.0->caikit-nlp==0.4.1) (23.1.0)\n",
      "Requirement already satisfied: async-timeout<5.0,>=4.0.0a3 in /opt/app-root/lib/python3.9/site-packages (from aiohttp->datasets>=2.4.0->caikit-nlp==0.4.1) (4.0.3)\n",
      "Requirement already satisfied: charset-normalizer<4.0,>=2.0 in /opt/app-root/lib/python3.9/site-packages (from aiohttp->datasets>=2.4.0->caikit-nlp==0.4.1) (3.3.2)\n",
      "Requirement already satisfied: frozenlist>=1.1.1 in /opt/app-root/lib/python3.9/site-packages (from aiohttp->datasets>=2.4.0->caikit-nlp==0.4.1) (1.4.0)\n",
      "Requirement already satisfied: aiosignal>=1.1.2 in /opt/app-root/lib/python3.9/site-packages (from aiohttp->datasets>=2.4.0->caikit-nlp==0.4.1) (1.3.1)\n",
      "Requirement already satisfied: multidict<7.0,>=4.5 in /opt/app-root/lib/python3.9/site-packages (from aiohttp->datasets>=2.4.0->caikit-nlp==0.4.1) (6.0.4)\n",
      "Requirement already satisfied: zipp>=0.5 in /opt/app-root/lib/python3.9/site-packages (from importlib-metadata<8.0.0,>=6.8.0->caikit[runtime-grpc,runtime-http]<0.26.0,>=0.25.0->caikit-nlp==0.4.1) (3.17.0)\n",
      "Requirement already satisfied: MarkupSafe>=2.0 in /opt/app-root/lib/python3.9/site-packages (from jinja2->torch>=2.0.1->caikit-nlp==0.4.1) (2.1.3)\n",
      "Requirement already satisfied: setuptools>=39.0.1 in /opt/app-root/lib/python3.9/site-packages (from py-grpc-prometheus<0.8,>=0.7.0->caikit[runtime-grpc,runtime-http]<0.26.0,>=0.25.0->caikit-nlp==0.4.1) (68.1.2)\n",
      "Requirement already satisfied: certifi>=2017.4.17 in /opt/app-root/lib/python3.9/site-packages (from requests<3,>=2.28.2->caikit-tgis-backend<0.2.0,>=0.1.27->caikit-nlp==0.4.1) (2023.7.22)\n",
      "Requirement already satisfied: urllib3<3,>=1.21.1 in /opt/app-root/lib/python3.9/site-packages (from requests<3,>=2.28.2->caikit-tgis-backend<0.2.0,>=0.1.27->caikit-nlp==0.4.1) (1.26.18)\n",
      "Requirement already satisfied: idna<4,>=2.5 in /opt/app-root/lib/python3.9/site-packages (from requests<3,>=2.28.2->caikit-tgis-backend<0.2.0,>=0.1.27->caikit-nlp==0.4.1) (3.4)\n",
      "Requirement already satisfied: mpmath>=0.19 in /opt/app-root/lib/python3.9/site-packages (from sympy->torch>=2.0.1->caikit-nlp==0.4.1) (1.3.0)\n",
      "Requirement already satisfied: exceptiongroup in /opt/app-root/lib/python3.9/site-packages (from anyio<4.0.0,>=3.7.1->fastapi[all]<1,>=0.100->caikit[runtime-grpc,runtime-http]<0.26.0,>=0.25.0->caikit-nlp==0.4.1) (1.1.3)\n",
      "Requirement already satisfied: sniffio>=1.1 in /opt/app-root/lib/python3.9/site-packages (from anyio<4.0.0,>=3.7.1->fastapi[all]<1,>=0.100->caikit[runtime-grpc,runtime-http]<0.26.0,>=0.25.0->caikit-nlp==0.4.1) (1.3.0)\n",
      "Requirement already satisfied: dnspython>=2.0.0 in /opt/app-root/lib/python3.9/site-packages (from email-validator>=2.0.0->fastapi[all]<1,>=0.100->caikit[runtime-grpc,runtime-http]<0.26.0,>=0.25.0->caikit-nlp==0.4.1) (2.4.2)\n",
      "Requirement already satisfied: httpcore==1.* in /opt/app-root/lib/python3.9/site-packages (from httpx>=0.23.0->fastapi[all]<1,>=0.100->caikit[runtime-grpc,runtime-http]<0.26.0,>=0.25.0->caikit-nlp==0.4.1) (1.0.2)\n",
      "Requirement already satisfied: h11<0.15,>=0.13 in /opt/app-root/lib/python3.9/site-packages (from httpcore==1.*->httpx>=0.23.0->fastapi[all]<1,>=0.100->caikit[runtime-grpc,runtime-http]<0.26.0,>=0.25.0->caikit-nlp==0.4.1) (0.14.0)\n",
      "Requirement already satisfied: pydantic-core==2.14.5 in /opt/app-root/lib/python3.9/site-packages (from pydantic!=1.8,!=1.8.1,!=2.0.0,!=2.0.1,!=2.1.0,<3.0.0,>=1.7.4->fastapi[all]<1,>=0.100->caikit[runtime-grpc,runtime-http]<0.26.0,>=0.25.0->caikit-nlp==0.4.1) (2.14.5)\n",
      "Requirement already satisfied: annotated-types>=0.4.0 in /opt/app-root/lib/python3.9/site-packages (from pydantic!=1.8,!=1.8.1,!=2.0.0,!=2.0.1,!=2.1.0,<3.0.0,>=1.7.4->fastapi[all]<1,>=0.100->caikit[runtime-grpc,runtime-http]<0.26.0,>=0.25.0->caikit-nlp==0.4.1) (0.6.0)\n",
      "Requirement already satisfied: python-dotenv>=0.21.0 in /opt/app-root/lib/python3.9/site-packages (from pydantic-settings>=2.0.0->fastapi[all]<1,>=0.100->caikit[runtime-grpc,runtime-http]<0.26.0,>=0.25.0->caikit-nlp==0.4.1) (1.0.0)\n",
      "Requirement already satisfied: click>=7.0 in /opt/app-root/lib/python3.9/site-packages (from uvicorn[standard]>=0.12.0->fastapi[all]<1,>=0.100->caikit[runtime-grpc,runtime-http]<0.26.0,>=0.25.0->caikit-nlp==0.4.1) (8.1.7)\n",
      "Requirement already satisfied: httptools>=0.5.0 in /opt/app-root/lib/python3.9/site-packages (from uvicorn[standard]>=0.12.0->fastapi[all]<1,>=0.100->caikit[runtime-grpc,runtime-http]<0.26.0,>=0.25.0->caikit-nlp==0.4.1) (0.6.1)\n",
      "Requirement already satisfied: websockets>=10.4 in /opt/app-root/lib/python3.9/site-packages (from uvicorn[standard]>=0.12.0->fastapi[all]<1,>=0.100->caikit[runtime-grpc,runtime-http]<0.26.0,>=0.25.0->caikit-nlp==0.4.1) (12.0)\n",
      "Requirement already satisfied: uvloop!=0.15.0,!=0.15.1,>=0.14.0 in /opt/app-root/lib/python3.9/site-packages (from uvicorn[standard]>=0.12.0->fastapi[all]<1,>=0.100->caikit[runtime-grpc,runtime-http]<0.26.0,>=0.25.0->caikit-nlp==0.4.1) (0.19.0)\n",
      "Requirement already satisfied: watchfiles>=0.13 in /opt/app-root/lib/python3.9/site-packages (from uvicorn[standard]>=0.12.0->fastapi[all]<1,>=0.100->caikit[runtime-grpc,runtime-http]<0.26.0,>=0.25.0->caikit-nlp==0.4.1) (0.21.0)\n",
      "Building wheels for collected packages: caikit-nlp\n",
      "  Building wheel for caikit-nlp (pyproject.toml) ... \u001b[?25ldone\n",
      "\u001b[?25h  Created wheel for caikit-nlp: filename=caikit_nlp-0.4.1-py3-none-any.whl size=100780 sha256=6f2f5a0be04e24ee06a4540d4fafdcc9f06caac37332aa0a5169fae6f83f8a2d\n",
      "  Stored in directory: /tmp/pip-ephem-wheel-cache-gbeh4bm3/wheels/16/ad/c7/0a0e6c2ffb12b0146d108e18055f8a4cdb030bdd038aad85d7\n",
      "Successfully built caikit-nlp\n",
      "Installing collected packages: caikit-nlp\n",
      "  Attempting uninstall: caikit-nlp\n",
      "    Found existing installation: caikit-nlp 0.4.1\n",
      "    Uninstalling caikit-nlp-0.4.1:\n",
      "      Successfully uninstalled caikit-nlp-0.4.1\n",
      "Successfully installed caikit-nlp-0.4.1\n",
      "\n",
      "\u001b[1m[\u001b[0m\u001b[34;49mnotice\u001b[0m\u001b[1;39;49m]\u001b[0m\u001b[39;49m A new release of pip available: \u001b[0m\u001b[31;49m22.2.2\u001b[0m\u001b[39;49m -> \u001b[0m\u001b[32;49m23.3.1\u001b[0m\n",
      "\u001b[1m[\u001b[0m\u001b[34;49mnotice\u001b[0m\u001b[1;39;49m]\u001b[0m\u001b[39;49m To update, run: \u001b[0m\u001b[32;49mpip install --upgrade pip\u001b[0m\n"
     ]
    }
   ],
   "source": [
    "!pip install ./caikit-nlp"
   ]
  },
  {
   "cell_type": "code",
   "execution_count": null,
   "id": "130f5630-fb45-4351-9d5f-359667cb47f8",
   "metadata": {},
   "outputs": [],
   "source": [
    "!git clone https://github.com/opendatahub-io/caikit-tgis-serving.git\n"
   ]
  },
  {
   "cell_type": "code",
   "execution_count": null,
   "id": "a6500fde-8d50-4608-b794-8644facf29f2",
   "metadata": {},
   "outputs": [],
   "source": [
    "!cp caikit-tgis-serving/utils/convert.py . \n"
   ]
  },
  {
   "cell_type": "code",
   "execution_count": 2,
   "id": "2553340c-1d04-4428-8f98-10b9f84f526b",
   "metadata": {},
   "outputs": [
    {
     "name": "stdout",
     "output_type": "stream",
     "text": [
      "Requirement already satisfied: huggingface_hub in /opt/app-root/lib/python3.9/site-packages (0.19.4)\n",
      "Requirement already satisfied: tqdm>=4.42.1 in /opt/app-root/lib/python3.9/site-packages (from huggingface_hub) (4.66.1)\n",
      "Requirement already satisfied: typing-extensions>=3.7.4.3 in /opt/app-root/lib/python3.9/site-packages (from huggingface_hub) (4.8.0)\n",
      "Requirement already satisfied: pyyaml>=5.1 in /opt/app-root/lib/python3.9/site-packages (from huggingface_hub) (6.0.1)\n",
      "Requirement already satisfied: requests in /opt/app-root/lib/python3.9/site-packages (from huggingface_hub) (2.31.0)\n",
      "Requirement already satisfied: filelock in /opt/app-root/lib/python3.9/site-packages (from huggingface_hub) (3.13.1)\n",
      "Requirement already satisfied: fsspec>=2023.5.0 in /opt/app-root/lib/python3.9/site-packages (from huggingface_hub) (2023.10.0)\n",
      "Requirement already satisfied: packaging>=20.9 in /opt/app-root/lib/python3.9/site-packages (from huggingface_hub) (23.2)\n",
      "Requirement already satisfied: certifi>=2017.4.17 in /opt/app-root/lib/python3.9/site-packages (from requests->huggingface_hub) (2023.7.22)\n",
      "Requirement already satisfied: urllib3<3,>=1.21.1 in /opt/app-root/lib/python3.9/site-packages (from requests->huggingface_hub) (1.26.18)\n",
      "Requirement already satisfied: charset-normalizer<4,>=2 in /opt/app-root/lib/python3.9/site-packages (from requests->huggingface_hub) (3.3.2)\n",
      "Requirement already satisfied: idna<4,>=2.5 in /opt/app-root/lib/python3.9/site-packages (from requests->huggingface_hub) (3.4)\n",
      "\n",
      "\u001b[1m[\u001b[0m\u001b[34;49mnotice\u001b[0m\u001b[1;39;49m]\u001b[0m\u001b[39;49m A new release of pip available: \u001b[0m\u001b[31;49m22.2.2\u001b[0m\u001b[39;49m -> \u001b[0m\u001b[32;49m23.3.1\u001b[0m\n",
      "\u001b[1m[\u001b[0m\u001b[34;49mnotice\u001b[0m\u001b[1;39;49m]\u001b[0m\u001b[39;49m To update, run: \u001b[0m\u001b[32;49mpip install --upgrade pip\u001b[0m\n",
      "Token will not been saved to git credential helper. Pass `add_to_git_credential=True` if you want to set the git credential as well.\n",
      "Token is valid (permission: read).\n",
      "Your token has been saved to /opt/app-root/src/.cache/huggingface/token\n",
      "Login successful\n"
     ]
    }
   ],
   "source": [
    "!pip install --upgrade huggingface_hub\n",
    "!huggingface-cli login --token $HUGGINGFACE_TOKEN"
   ]
  },
  {
   "cell_type": "code",
   "execution_count": 1,
   "id": "f9d55e0a-71d0-4150-87d9-e2381a59d336",
   "metadata": {},
   "outputs": [
    {
     "name": "stdout",
     "output_type": "stream",
     "text": [
      "fatal: destination path 'flan-t5-small' already exists and is not an empty directory.\n"
     ]
    }
   ],
   "source": [
    "!git clone https://huggingface.co/google/flan-t5-small"
   ]
  },
  {
   "cell_type": "code",
   "execution_count": 10,
   "id": "3e4d5cf2-22fd-422e-845f-7014b4a7ace9",
   "metadata": {},
   "outputs": [
    {
     "name": "stdout",
     "output_type": "stream",
     "text": [
      "<function register_backend_type at 0x7f86bf52b940> is still in the BETA phase and subject to change!\n"
     ]
    }
   ],
   "source": [
    "!./convert.py --model-path ./flan-t5-small/ --model-save-path ./flan-t5-small-caikit"
   ]
  },
  {
   "cell_type": "code",
   "execution_count": 11,
   "id": "d998e41e-9b06-43f5-b7a0-532b1b21cf2b",
   "metadata": {},
   "outputs": [],
   "source": [
    "import os\n",
    "import boto3\n",
    "import botocore\n",
    "\n",
    "aws_access_key_id = os.environ.get('AWS_ACCESS_KEY_ID')\n",
    "aws_secret_access_key = os.environ.get('AWS_SECRET_ACCESS_KEY')\n",
    "endpoint_url = os.environ.get('AWS_S3_ENDPOINT')\n",
    "region_name = os.environ.get('AWS_DEFAULT_REGION')\n",
    "bucket_name = os.environ.get('AWS_S3_BUCKET')\n",
    "\n",
    "session = boto3.session.Session(aws_access_key_id=aws_access_key_id,\n",
    "                                aws_secret_access_key=aws_secret_access_key)\n",
    "\n",
    "s3_resource = session.resource(\n",
    "    's3',\n",
    "    config=botocore.client.Config(signature_version='s3v4'),\n",
    "    endpoint_url=endpoint_url,\n",
    "    region_name=region_name)\n",
    "\n",
    "bucket = s3_resource.Bucket(bucket_name)\n",
    "\n",
    "\n",
    "def upload_directory(local_directory, s3_prefix):\n",
    "    for root, dirs, files in os.walk(local_directory):\n",
    "        for filename in files:\n",
    "            file_path = os.path.join(root, filename)\n",
    "            relative_path = os.path.relpath(file_path, local_directory)\n",
    "            s3_key = os.path.join(s3_prefix, relative_path)\n",
    "            print(f\"{file_path} -> {s3_key}\")\n",
    "            bucket.upload_file(file_path, s3_key)\n",
    "\n",
    "\n",
    "def list_objects(prefix):\n",
    "    filter = bucket.objects.filter(Prefix=prefix)\n",
    "    for obj in filter.all():\n",
    "        print(obj.key)\n"
   ]
  },
  {
   "cell_type": "code",
   "execution_count": 12,
   "id": "5d2bc848-c130-426b-98f6-5427b77bb9d2",
   "metadata": {
    "tags": []
   },
   "outputs": [
    {
     "data": {
      "text/plain": [
       "'flan-t5-small-caikit'"
      ]
     },
     "execution_count": 12,
     "metadata": {},
     "output_type": "execute_result"
    }
   ],
   "source": [
    "OUTPUT_DIR = \"flan-t5-small-caikit\"\n",
    "OUTPUT_DIR"
   ]
  },
  {
   "cell_type": "code",
   "execution_count": 13,
   "id": "fba9b7a6-ce20-4376-bc08-5f0b6e5dec41",
   "metadata": {
    "tags": []
   },
   "outputs": [
    {
     "name": "stdout",
     "output_type": "stream",
     "text": [
      "flan-t5-small-caikit/config.yml -> demo-models/flan-t5-small-caikit/config.yml\n",
      "flan-t5-small-caikit/artifacts/generation_config.json -> demo-models/flan-t5-small-caikit/artifacts/generation_config.json\n",
      "flan-t5-small-caikit/artifacts/model.safetensors -> demo-models/flan-t5-small-caikit/artifacts/model.safetensors\n",
      "flan-t5-small-caikit/artifacts/tokenizer.json -> demo-models/flan-t5-small-caikit/artifacts/tokenizer.json\n",
      "flan-t5-small-caikit/artifacts/config.json -> demo-models/flan-t5-small-caikit/artifacts/config.json\n",
      "flan-t5-small-caikit/artifacts/special_tokens_map.json -> demo-models/flan-t5-small-caikit/artifacts/special_tokens_map.json\n",
      "flan-t5-small-caikit/artifacts/tokenizer_config.json -> demo-models/flan-t5-small-caikit/artifacts/tokenizer_config.json\n"
     ]
    }
   ],
   "source": [
    "upload_directory(OUTPUT_DIR, f\"demo-models/{OUTPUT_DIR}\")"
   ]
  },
  {
   "cell_type": "code",
   "execution_count": 14,
   "id": "48f256ef-900d-4666-8969-4403101a0cfc",
   "metadata": {
    "tags": []
   },
   "outputs": [
    {
     "name": "stdout",
     "output_type": "stream",
     "text": [
      "demo-models/Llama-2-7b-hf-caikit/artifacts/config.json\n",
      "demo-models/Llama-2-7b-hf-caikit/artifacts/generation_config.json\n",
      "demo-models/Llama-2-7b-hf-caikit/artifacts/model-00001-of-00006.safetensors\n",
      "demo-models/Llama-2-7b-hf-caikit/artifacts/model-00002-of-00006.safetensors\n",
      "demo-models/Llama-2-7b-hf-caikit/artifacts/model-00003-of-00006.safetensors\n",
      "demo-models/Llama-2-7b-hf-caikit/artifacts/model-00004-of-00006.safetensors\n",
      "demo-models/Llama-2-7b-hf-caikit/artifacts/model-00005-of-00006.safetensors\n",
      "demo-models/Llama-2-7b-hf-caikit/artifacts/model-00006-of-00006.safetensors\n",
      "demo-models/Llama-2-7b-hf-caikit/artifacts/model.safetensors.index.json\n",
      "demo-models/Llama-2-7b-hf-caikit/artifacts/special_tokens_map.json\n",
      "demo-models/Llama-2-7b-hf-caikit/artifacts/tokenizer.json\n",
      "demo-models/Llama-2-7b-hf-caikit/artifacts/tokenizer_config.json\n",
      "demo-models/Llama-2-7b-hf-caikit/config.yml\n",
      "demo-models/flan-t5-small-caikit/artifacts/config.json\n",
      "demo-models/flan-t5-small-caikit/artifacts/generation_config.json\n",
      "demo-models/flan-t5-small-caikit/artifacts/model.safetensors\n",
      "demo-models/flan-t5-small-caikit/artifacts/special_tokens_map.json\n",
      "demo-models/flan-t5-small-caikit/artifacts/tokenizer.json\n",
      "demo-models/flan-t5-small-caikit/artifacts/tokenizer_config.json\n",
      "demo-models/flan-t5-small-caikit/config.yml\n"
     ]
    }
   ],
   "source": [
    "list_objects(f\"demo-models/\")"
   ]
  },
  {
   "cell_type": "code",
   "execution_count": null,
   "id": "25ec8db0-77ee-4a1d-9640-0be80e5f8a98",
   "metadata": {},
   "outputs": [],
   "source": []
  }
 ],
 "metadata": {
  "kernelspec": {
   "display_name": "Python 3.9",
   "language": "python",
   "name": "python3"
  },
  "language_info": {
   "codemirror_mode": {
    "name": "ipython",
    "version": 3
   },
   "file_extension": ".py",
   "mimetype": "text/x-python",
   "name": "python",
   "nbconvert_exporter": "python",
   "pygments_lexer": "ipython3",
   "version": "3.9.18"
  }
 },
 "nbformat": 4,
 "nbformat_minor": 5
}
